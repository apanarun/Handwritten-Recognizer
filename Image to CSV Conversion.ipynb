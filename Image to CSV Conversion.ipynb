{
 "cells": [
  {
   "cell_type": "code",
   "execution_count": 1,
   "metadata": {},
   "outputs": [],
   "source": [
    "import cv2\n",
    "import numpy as np\n",
    "import pandas as pd\n",
    "import os\n",
    "import time"
   ]
  },
  {
   "cell_type": "code",
   "execution_count": 2,
   "metadata": {},
   "outputs": [],
   "source": [
    "start_time = time.time()\n",
    "train_path,train_dirs,train_files = next(os.walk(\"data/Train\"))"
   ]
  },
  {
   "cell_type": "code",
   "execution_count": 3,
   "metadata": {},
   "outputs": [],
   "source": [
    "out = train_files"
   ]
  },
  {
   "cell_type": "code",
   "execution_count": null,
   "metadata": {},
   "outputs": [],
   "source": [
    "for i in out:\n",
    "    \n",
    "    char_path,char_dirs,char_files = next(os.walk(train_path+\"/\"+i))\n",
    "    df = pd.DataFrame(columns=['pixel'+str(i) for i in range(28*28*3)]+['label'])\n",
    "    \n",
    "    for j in range(len(char_files)):\n",
    "        img = cv2.imread(char_path+\"/\"+char_files[j])\n",
    "        img = cv2.resize(img,(28,28))\n",
    "        img_arr = np.asarray(img)\n",
    "        img_arr = np.append(img_arr,[i])\n",
    "        df.loc[j] = img_arr\n",
    "        \n",
    "    df.to_csv(r'Modified data/Train3/'+i+'.csv',index=False)"
   ]
  },
  {
   "cell_type": "code",
   "execution_count": null,
   "metadata": {},
   "outputs": [],
   "source": [
    "end_time = time.time()\n",
    "print(end_time-start_time)"
   ]
  }
 ],
 "metadata": {
  "kernelspec": {
   "display_name": "Python 3",
   "language": "python",
   "name": "python3"
  },
  "language_info": {
   "codemirror_mode": {
    "name": "ipython",
    "version": 3
   },
   "file_extension": ".py",
   "mimetype": "text/x-python",
   "name": "python",
   "nbconvert_exporter": "python",
   "pygments_lexer": "ipython3",
   "version": "3.7.6"
  }
 },
 "nbformat": 4,
 "nbformat_minor": 2
}
